{
  "nbformat": 4,
  "nbformat_minor": 0,
  "metadata": {
    "colab": {
      "name": "Untitled0.ipynb",
      "provenance": [],
      "collapsed_sections": [],
      "authorship_tag": "ABX9TyMzkOBGCQm/xGV7cwcEJLCT",
      "include_colab_link": true
    },
    "kernelspec": {
      "name": "python3",
      "display_name": "Python 3"
    },
    "language_info": {
      "name": "python"
    }
  },
  "cells": [
    {
      "cell_type": "markdown",
      "metadata": {
        "id": "view-in-github",
        "colab_type": "text"
      },
      "source": [
        "<a href=\"https://colab.research.google.com/github/Dheeraj-Vadrevu/DNNfirst/blob/main/Untitled0.ipynb\" target=\"_parent\"><img src=\"https://colab.research.google.com/assets/colab-badge.svg\" alt=\"Open In Colab\"/></a>"
      ]
    },
    {
      "cell_type": "code",
      "metadata": {
        "colab": {
          "base_uri": "https://localhost:8080/",
          "height": 1000
        },
        "id": "hHNKnmMc5FcS",
        "outputId": "68a10b03-f35c-4dc1-e055-699f17137ab1"
      },
      "source": [
        "import numpy as np\n",
        "from matplotlib import pyplot as plt\n",
        "samp=[]\n",
        "y=[]\n",
        "samp1=[]\n",
        "samp=np.linspace(-1,1,100)\n",
        "print(samp)\n",
        "y=0.1*np.power(samp,1)+np.power(samp,2)+np.power(samp,3)\n",
        "print(y)\n",
        "fig = plt.figure()\n",
        "ax = fig.add_subplot(111)\n",
        "ax.plot(samp, y, color='lightblue', linewidth=5)\n",
        "ax.set_xlim(-1,1,5)\n",
        "plt.savefig('foo.png')\n",
        "plt.show()\n",
        "\n",
        "\n",
        "def create_dataset(n_samples):\n",
        "  samp1=np.linspace(-1,1,n_samples)\n",
        "  return(samp1)\n",
        "  print(samp1)\n",
        "  \n",
        "\n",
        "\n",
        "class Dataset:\n",
        "  def __init__(self,n1):\n",
        "    self.n1=n1\n",
        "  def load_data(self):\n",
        "    print(np.linspace(-1,1,self.n1))\n",
        "\n",
        "\n",
        "d=Dataset(12)\n",
        "d.load_data()\n",
        "n_samples=int(input(\"Enter the number of samples\"))\n",
        "create_dataset(n_samples)\n",
        "  \n",
        "\n"
      ],
      "execution_count": 93,
      "outputs": [
        {
          "output_type": "stream",
          "text": [
            "[-1.         -0.97979798 -0.95959596 -0.93939394 -0.91919192 -0.8989899\n",
            " -0.87878788 -0.85858586 -0.83838384 -0.81818182 -0.7979798  -0.77777778\n",
            " -0.75757576 -0.73737374 -0.71717172 -0.6969697  -0.67676768 -0.65656566\n",
            " -0.63636364 -0.61616162 -0.5959596  -0.57575758 -0.55555556 -0.53535354\n",
            " -0.51515152 -0.49494949 -0.47474747 -0.45454545 -0.43434343 -0.41414141\n",
            " -0.39393939 -0.37373737 -0.35353535 -0.33333333 -0.31313131 -0.29292929\n",
            " -0.27272727 -0.25252525 -0.23232323 -0.21212121 -0.19191919 -0.17171717\n",
            " -0.15151515 -0.13131313 -0.11111111 -0.09090909 -0.07070707 -0.05050505\n",
            " -0.03030303 -0.01010101  0.01010101  0.03030303  0.05050505  0.07070707\n",
            "  0.09090909  0.11111111  0.13131313  0.15151515  0.17171717  0.19191919\n",
            "  0.21212121  0.23232323  0.25252525  0.27272727  0.29292929  0.31313131\n",
            "  0.33333333  0.35353535  0.37373737  0.39393939  0.41414141  0.43434343\n",
            "  0.45454545  0.47474747  0.49494949  0.51515152  0.53535354  0.55555556\n",
            "  0.57575758  0.5959596   0.61616162  0.63636364  0.65656566  0.67676768\n",
            "  0.6969697   0.71717172  0.73737374  0.75757576  0.77777778  0.7979798\n",
            "  0.81818182  0.83838384  0.85858586  0.87878788  0.8989899   0.91919192\n",
            "  0.93939394  0.95959596  0.97979798  1.        ]\n",
            "[-1.00000000e-01 -7.85857761e-02 -5.87545695e-02 -4.04569107e-02\n",
            " -2.36433306e-02 -8.26435975e-03  5.72947102e-03  1.83876310e-02\n",
            "  2.97595896e-02  3.98948159e-02  4.88427794e-02  5.66529492e-02\n",
            "  6.33747948e-02  6.90577853e-02  7.37513900e-02  7.75050783e-02\n",
            "  8.03683195e-02  8.23905827e-02  8.36213373e-02  8.41100527e-02\n",
            "  8.39061980e-02  8.30592426e-02  8.16186557e-02  7.96339067e-02\n",
            "  7.71544648e-02  7.42297993e-02  7.09093795e-02  6.72426747e-02\n",
            "  6.32791542e-02  5.90682872e-02  5.46595431e-02  5.01023911e-02\n",
            "  4.54463006e-02  4.07407407e-02  3.60351809e-02  3.13790904e-02\n",
            "  2.68219384e-02  2.24131943e-02  1.82023273e-02  1.42388068e-02\n",
            "  1.05721020e-02  7.25168221e-03  4.32701672e-03  1.84757482e-03\n",
            " -1.37174211e-04 -1.57776108e-03 -2.42471650e-03 -2.62857119e-03\n",
            " -2.13985586e-03 -9.09101215e-04  1.11316203e-03  3.97640315e-03\n",
            "  7.73009145e-03  1.24236962e-02  1.81066867e-02  2.48285322e-02\n",
            "  3.26387021e-02  4.15866656e-02  5.17218919e-02  6.30938505e-02\n",
            "  7.57520105e-02  8.97458412e-02  1.05124812e-01  1.21938392e-01\n",
            "  1.40236051e-01  1.60067258e-01  1.81481481e-01  2.04528192e-01\n",
            "  2.29256858e-01  2.55716949e-01  2.83957935e-01  3.14029284e-01\n",
            "  3.45980466e-01  3.79860950e-01  4.15720206e-01  4.53607702e-01\n",
            "  4.93572909e-01  5.35665295e-01  5.79934330e-01  6.26429482e-01\n",
            "  6.75200222e-01  7.26296018e-01  7.79766340e-01  8.35660657e-01\n",
            "  8.94028439e-01  9.54919154e-01  1.01838227e+00  1.08446726e+00\n",
            "  1.15322359e+00  1.22470074e+00  1.29894816e+00  1.37601533e+00\n",
            "  1.45595172e+00  1.53880680e+00  1.62463004e+00  1.71347090e+00\n",
            "  1.80537886e+00  1.90040338e+00  1.99859394e+00  2.10000000e+00]\n"
          ],
          "name": "stdout"
        },
        {
          "output_type": "display_data",
          "data": {
            "image/png": "[encoded data removed]",
            "text/plain": [
              "<Figure size 432x288 with 1 Axes>"
            ]
          },
          "metadata": {
            "tags": [],
            "needs_background": "light"
          }
        },
        {
          "output_type": "stream",
          "text": [
            "[-1.         -0.81818182 -0.63636364 -0.45454545 -0.27272727 -0.09090909\n",
            "  0.09090909  0.27272727  0.45454545  0.63636364  0.81818182  1.        ]\n",
            "Enter the number of samples5\n"
          ],
          "name": "stdout"
        },
        {
          "output_type": "execute_result",
          "data": {
            "text/plain": [
              "array([-1. , -0.5,  0. ,  0.5,  1. ])"
            ]
          },
          "metadata": {
            "tags": []
          },
          "execution_count": 93
        }
      ]
    },
    {
      "cell_type": "code",
      "metadata": {
        "id": "46uUy1gla2Zc"
      },
      "source": [
        ""
      ],
      "execution_count": null,
      "outputs": []
    },
    {
      "cell_type": "code",
      "metadata": {
        "id": "OSTgr29QR6pb"
      },
      "source": [
        ""
      ],
      "execution_count": 87,
      "outputs": []
    }
  ]
}